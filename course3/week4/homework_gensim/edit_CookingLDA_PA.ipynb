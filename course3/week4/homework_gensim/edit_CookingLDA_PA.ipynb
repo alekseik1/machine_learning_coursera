{
 "cells": [
  {
   "cell_type": "markdown",
   "metadata": {},
   "source": [
    "# Programming Assignment: \n",
    "## Готовим LDA по рецептам"
   ]
  },
  {
   "cell_type": "markdown",
   "metadata": {},
   "source": [
    "Как вы уже знаете, в тематическом моделировании делается предположение о том, что для определения тематики порядок слов в документе не важен; об этом гласит гипотеза «мешка слов». Сегодня мы будем работать с несколько нестандартной для тематического моделирования коллекцией, которую можно назвать «мешком ингредиентов», потому что на состоит из рецептов блюд разных кухонь. Тематические модели ищут слова, которые часто вместе встречаются в документах, и составляют из них темы. Мы попробуем применить эту идею к рецептам и найти кулинарные «темы». Эта коллекция хороша тем, что не требует предобработки. Кроме того, эта задача достаточно наглядно иллюстрирует принцип работы тематических моделей.\n",
    "\n",
    "Для выполнения заданий, помимо часто используемых в курсе библиотек, потребуются модули *json* и *gensim*. Первый входит в дистрибутив Anaconda, второй можно поставить командой \n",
    "\n",
    "*pip install gensim*\n",
    "\n",
    "Построение модели занимает некоторое время. На ноутбуке с процессором Intel Core i7 и тактовой частотой 2400 МГц на построение одной модели уходит менее 10 минут."
   ]
  },
  {
   "cell_type": "markdown",
   "metadata": {},
   "source": [
    "### Загрузка данных"
   ]
  },
  {
   "cell_type": "markdown",
   "metadata": {},
   "source": [
    "Коллекция дана в json-формате: для каждого рецепта известны его id, кухня (cuisine) и список ингредиентов, в него входящих. Загрузить данные можно с помощью модуля json (он входит в дистрибутив Anaconda):"
   ]
  },
  {
   "cell_type": "code",
   "execution_count": 1,
   "metadata": {},
   "outputs": [],
   "source": [
    "import json"
   ]
  },
  {
   "cell_type": "code",
   "execution_count": 2,
   "metadata": {},
   "outputs": [],
   "source": [
    "with open(\"recipes.json\") as f:\n",
    "    recipes = json.load(f)"
   ]
  },
  {
   "cell_type": "code",
   "execution_count": 3,
   "metadata": {},
   "outputs": [
    {
     "name": "stdout",
     "output_type": "stream",
     "text": [
      "{u'cuisine': u'greek', u'id': 10259, u'ingredients': [u'romaine lettuce', u'black olives', u'grape tomatoes', u'garlic', u'pepper', u'purple onion', u'seasoning', u'garbanzo beans', u'feta cheese crumbles']}\n"
     ]
    }
   ],
   "source": [
    "print recipes[0]"
   ]
  },
  {
   "cell_type": "markdown",
   "metadata": {},
   "source": [
    "### Составление корпуса"
   ]
  },
  {
   "cell_type": "code",
   "execution_count": 4,
   "metadata": {},
   "outputs": [],
   "source": [
    "from gensim import corpora, models\n",
    "import numpy as np"
   ]
  },
  {
   "cell_type": "markdown",
   "metadata": {},
   "source": [
    "Наша коллекция небольшая, и целиком помещается в оперативную память. Gensim может работать с такими данными и не требует их сохранения на диск в специальном формате. Для этого коллекция должна быть представлена в виде списка списков, каждый внутренний список соответствует отдельному документу и состоит из его слов. Пример коллекции из двух документов: \n",
    "\n",
    "[[\"hello\", \"world\"], [\"programming\", \"in\", \"python\"]]\n",
    "\n",
    "Преобразуем наши данные в такой формат, а затем создадим объекты corpus и dictionary, с которыми будет работать модель."
   ]
  },
  {
   "cell_type": "code",
   "execution_count": 8,
   "metadata": {},
   "outputs": [],
   "source": [
    "texts = [recipe[\"ingredients\"] for recipe in recipes]"
   ]
  },
  {
   "cell_type": "code",
   "execution_count": 11,
   "metadata": {},
   "outputs": [],
   "source": [
    "dictionary = corpora.Dictionary(texts)   # составляем словарь\n",
    "corpus = [dictionary.doc2bow(text) for text in texts]  # составляем корпус документов"
   ]
  },
  {
   "cell_type": "code",
   "execution_count": 12,
   "metadata": {},
   "outputs": [
    {
     "name": "stdout",
     "output_type": "stream",
     "text": [
      "[u'romaine lettuce', u'black olives', u'grape tomatoes', u'garlic', u'pepper', u'purple onion', u'seasoning', u'garbanzo beans', u'feta cheese crumbles']\n",
      "[(0, 1), (1, 1), (2, 1), (3, 1), (4, 1), (5, 1), (6, 1), (7, 1), (8, 1)]\n"
     ]
    }
   ],
   "source": [
    "print texts[0]\n",
    "print corpus[0]"
   ]
  },
  {
   "cell_type": "markdown",
   "metadata": {},
   "source": [
    "У объекта dictionary есть полезная переменная dictionary.token2id, позволяющая находить соответствие между ингредиентами и их индексами."
   ]
  },
  {
   "cell_type": "markdown",
   "metadata": {},
   "source": [
    "### Обучение модели\n",
    "Вам может понадобиться [документация](https://radimrehurek.com/gensim/models/ldamodel.html) LDA в gensim."
   ]
  },
  {
   "cell_type": "markdown",
   "metadata": {},
   "source": [
    "__Задание 1.__ Обучите модель LDA с 40 темами, установив количество проходов по коллекции 5 и оставив остальные параметры по умолчанию. \n",
    "\n",
    "\n",
    "Затем вызовите метод модели *show_topics*, указав количество тем 40 и количество токенов 10, и сохраните результат (топы ингредиентов в темах) в отдельную переменную. Если при вызове метода *show_topics* указать параметр *formatted=True*, то топы ингредиентов будет удобно выводить на печать, если *formatted=False*, будет удобно работать со списком программно. Выведите топы на печать, рассмотрите темы, а затем ответьте на вопрос:\n",
    "\n",
    "Сколько раз ингредиенты \"salt\", \"sugar\", \"water\", \"mushrooms\", \"chicken\", \"eggs\" встретились среди топов-10 всех 40 тем? При ответе __не нужно__ учитывать составные ингредиенты, например, \"hot water\".\n",
    "\n",
    "Передайте 6 чисел в функцию save_answers1 и загрузите сгенерированный файл в форму.\n",
    "\n",
    "У gensim нет возможности фиксировать случайное приближение через параметры метода, но библиотека использует numpy для инициализации матриц. Поэтому, по утверждению автора библиотеки, фиксировать случайное приближение нужно командой, которая написана в следующей ячейке. __Перед строкой кода с построением модели обязательно вставляйте указанную строку фиксации random.seed.__"
   ]
  },
  {
   "cell_type": "code",
   "execution_count": 34,
   "metadata": {},
   "outputs": [],
   "source": [
    "np.random.seed(76543)\n",
    "# здесь код для построения модели:\n",
    "ldamodel = models.LdaModel(corpus, num_topics=40, \n",
    "                               passes=5, id2word = {k: w for (w, k) in dictionary.token2id.items()})"
   ]
  },
  {
   "cell_type": "code",
   "execution_count": 35,
   "metadata": {},
   "outputs": [],
   "source": [
    "tmp = ldamodel.show_topics(formatted=False, num_topics=-1, num_words=10)"
   ]
  },
  {
   "cell_type": "code",
   "execution_count": 36,
   "metadata": {},
   "outputs": [
    {
     "data": {
      "text/plain": [
       "[(0,\n",
       "  [(u'cooking spray', 0.08893168359335854),\n",
       "   (u'salt', 0.08302331312270152),\n",
       "   (u'garlic cloves', 0.07969448238353345),\n",
       "   (u'olive oil', 0.06805669773233253),\n",
       "   (u'chopped onion', 0.06574028630309078),\n",
       "   (u'crushed red pepper', 0.036603425389428054),\n",
       "   (u'fat free less sodium chicken broth', 0.036151588839948144),\n",
       "   (u'black pepper', 0.03435205957926054),\n",
       "   (u'ground black pepper', 0.032028828039853005),\n",
       "   (u'water', 0.0320263465463565)]),\n",
       " (1,\n",
       "  [(u'carrots', 0.08468504741761557),\n",
       "   (u'onions', 0.05947718590488969),\n",
       "   (u'sauce', 0.056696097267259195),\n",
       "   (u'cabbage', 0.056348277206383995),\n",
       "   (u'spinach', 0.046496298177981406),\n",
       "   (u'beef', 0.03938769621651119),\n",
       "   (u'low sodium chicken broth', 0.033278198173197146),\n",
       "   (u'water', 0.03257205403254008),\n",
       "   (u'firm tofu', 0.029467834271367246),\n",
       "   (u'green cabbage', 0.02771940582568299)]),\n",
       " (2,\n",
       "  [(u'cracked black pepper', 0.06579303783393559),\n",
       "   (u'dry red wine', 0.05880935110898916),\n",
       "   (u'shortening', 0.041491648463130436),\n",
       "   (u'beef broth', 0.04112167324387163),\n",
       "   (u'vegetable oil cooking spray', 0.03978895094165149),\n",
       "   (u'grape tomatoes', 0.0394843382554654),\n",
       "   (u'cilantro sprigs', 0.03520580671799444),\n",
       "   (u'french bread', 0.03080949841744779),\n",
       "   (u'dried rosemary', 0.02933930523114056),\n",
       "   (u'all-purpose flour', 0.02908258009987716)]),\n",
       " (3,\n",
       "  [(u'potatoes', 0.13264991233166137),\n",
       "   (u'oil', 0.1239289623485858),\n",
       "   (u'salt', 0.06332673304394126),\n",
       "   (u'chickpeas', 0.059179676560327264),\n",
       "   (u'onions', 0.04202017884862618),\n",
       "   (u'coriander', 0.03836718666833259),\n",
       "   (u'pepper', 0.03446319680249913),\n",
       "   (u'saffron', 0.033048438299776876),\n",
       "   (u'chopped tomatoes', 0.031199828274823344),\n",
       "   (u'vegetables', 0.02622991719134971)]),\n",
       " (4,\n",
       "  [(u'green bell pepper', 0.062137194484359864),\n",
       "   (u'garlic powder', 0.0575183652946504),\n",
       "   (u'cayenne pepper', 0.05560720304032577),\n",
       "   (u'salt', 0.05312980132695712),\n",
       "   (u'paprika', 0.044357251694682444),\n",
       "   (u'onions', 0.035222635468300595),\n",
       "   (u'dried thyme', 0.034801505725109275),\n",
       "   (u'worcestershire sauce', 0.03199020314811061),\n",
       "   (u'onion powder', 0.02726733988686242),\n",
       "   (u'ground black pepper', 0.02706727720085361)]),\n",
       " (5,\n",
       "  [(u'ground cumin', 0.07662728512249418),\n",
       "   (u'salt', 0.05226147669503205),\n",
       "   (u'ground coriander', 0.04831432227171244),\n",
       "   (u'onions', 0.03644538912594289),\n",
       "   (u'olive oil', 0.03594128318825764),\n",
       "   (u'garlic', 0.033314493875509325),\n",
       "   (u'paprika', 0.028238586829496485),\n",
       "   (u'tumeric', 0.025756401308228268),\n",
       "   (u'cayenne pepper', 0.02293977686273951),\n",
       "   (u'garlic cloves', 0.02233749719697903)]),\n",
       " (6,\n",
       "  [(u'ground cinnamon', 0.1066759566345567),\n",
       "   (u'ground nutmeg', 0.08742177488795182),\n",
       "   (u'honey', 0.05610592412554891),\n",
       "   (u'ground allspice', 0.04677648253170648),\n",
       "   (u'raisins', 0.04627668347604499),\n",
       "   (u'ground cloves', 0.04591309115999415),\n",
       "   (u'light brown sugar', 0.04366417042741849),\n",
       "   (u'ground ginger', 0.031187420812889017),\n",
       "   (u'brown sugar', 0.030182049216845884),\n",
       "   (u'margarine', 0.03011716363470939)]),\n",
       " (7,\n",
       "  [(u'zucchini', 0.08474264242251403),\n",
       "   (u'plum tomatoes', 0.08049757811358373),\n",
       "   (u'fresh basil', 0.07737071565988092),\n",
       "   (u'olive oil', 0.07393426487381374),\n",
       "   (u'eggplant', 0.04664611379184044),\n",
       "   (u'salt', 0.03921468083012866),\n",
       "   (u'grated parmesan cheese', 0.03089763046511018),\n",
       "   (u'garlic cloves', 0.029836911250445262),\n",
       "   (u'red bell pepper', 0.02953091723121136),\n",
       "   (u'spaghetti', 0.02864503120588404)]),\n",
       " (8,\n",
       "  [(u'rice', 0.0871673787508253),\n",
       "   (u'cooking oil', 0.07709878220191839),\n",
       "   (u'salt', 0.06727713553520064),\n",
       "   (u'water', 0.05874918992232016),\n",
       "   (u'basmati rice', 0.050622406492366316),\n",
       "   (u'vinegar', 0.04899407583585749),\n",
       "   (u'ginger', 0.0457551976361056),\n",
       "   (u'curry leaves', 0.03583158720841836),\n",
       "   (u'mint leaves', 0.02939553347137735),\n",
       "   (u'red cabbage', 0.02302056254249114)]),\n",
       " (9,\n",
       "  [(u'dried oregano', 0.07891701412529081),\n",
       "   (u'onions', 0.07272401577286425),\n",
       "   (u'garlic', 0.06087084645776577),\n",
       "   (u'tomato sauce', 0.057305229057996315),\n",
       "   (u'salt', 0.052576199890923214),\n",
       "   (u'ground beef', 0.05043290807248202),\n",
       "   (u'diced tomatoes', 0.04908031515736038),\n",
       "   (u'dried basil', 0.043086220699036726),\n",
       "   (u'tomato paste', 0.040347252869254044),\n",
       "   (u'olive oil', 0.034981688994508604)]),\n",
       " (10,\n",
       "  [(u'white wine', 0.04936768111682797),\n",
       "   (u'ground black pepper', 0.048029125078343),\n",
       "   (u'butter', 0.03734028166136055),\n",
       "   (u'russet potatoes', 0.0364777032197498),\n",
       "   (u'chopped fresh chives', 0.030782680251151693),\n",
       "   (u'kosher salt', 0.02959143664687191),\n",
       "   (u'red potato', 0.027102675306152655),\n",
       "   (u'ham', 0.026620871791238957),\n",
       "   (u'large eggs', 0.025770559902268713),\n",
       "   (u'salt', 0.02406731181770841)]),\n",
       " (11,\n",
       "  [(u'jalapeno chilies', 0.06699627387002931),\n",
       "   (u'salt', 0.06421104365298984),\n",
       "   (u'avocado', 0.050618875873464794),\n",
       "   (u'lime', 0.042149718346097244),\n",
       "   (u'purple onion', 0.03495355405241773),\n",
       "   (u'garlic', 0.03441762890923319),\n",
       "   (u'olive oil', 0.03239463851249292),\n",
       "   (u'fresh cilantro', 0.0315572596664042),\n",
       "   (u'cilantro', 0.030696574173230996),\n",
       "   (u'lime juice', 0.029169836782926364)]),\n",
       " (12,\n",
       "  [(u'cucumber', 0.13387370070367377),\n",
       "   (u'lean ground beef', 0.07042634503602041),\n",
       "   (u'cider vinegar', 0.045773470475447726),\n",
       "   (u'feta cheese', 0.045341315625472334),\n",
       "   (u'lemon wedge', 0.039782988887878755),\n",
       "   (u'romaine lettuce', 0.03938062213158532),\n",
       "   (u'cream', 0.03521028517986847),\n",
       "   (u'cherry tomatoes', 0.0339971679828632),\n",
       "   (u'chili', 0.03053850337242103),\n",
       "   (u'taco seasoning mix', 0.027446808482652022)]),\n",
       " (13,\n",
       "  [(u'sour cream', 0.08550244759380497),\n",
       "   (u'salsa', 0.056321668755972214),\n",
       "   (u'shredded cheddar cheese', 0.04919099595174705),\n",
       "   (u'flour tortillas', 0.04832554165389882),\n",
       "   (u'chili powder', 0.0406498669578163),\n",
       "   (u'black beans', 0.0394680241544635),\n",
       "   (u'green onions', 0.0338627027451645),\n",
       "   (u'ground cumin', 0.031229330247281972),\n",
       "   (u'corn tortillas', 0.025747086766038266),\n",
       "   (u'cheddar cheese', 0.023999503101898984)]),\n",
       " (14,\n",
       "  [(u'white sugar', 0.11057378122584113),\n",
       "   (u'sweet potatoes', 0.08588980976978884),\n",
       "   (u'fresh mint', 0.05810176942657599),\n",
       "   (u'black peppercorns', 0.04950358686832045),\n",
       "   (u'fennel seeds', 0.045058371287366526),\n",
       "   (u'red wine', 0.0369689265867073),\n",
       "   (u'vegetable stock', 0.03215564982881976),\n",
       "   (u'sugar', 0.02423241999328666),\n",
       "   (u'maple syrup', 0.02260354568906477),\n",
       "   (u'garlic chili sauce', 0.021670741100373835)]),\n",
       " (15,\n",
       "  [(u'cold water', 0.0899018751826468),\n",
       "   (u'cinnamon sticks', 0.0718980662252664),\n",
       "   (u'boiling water', 0.056970939038014624),\n",
       "   (u'sugar', 0.04439388919230805),\n",
       "   (u'star anise', 0.04112275069350486),\n",
       "   (u'slivered almonds', 0.03258050043603722),\n",
       "   (u'cake flour', 0.029463615896518053),\n",
       "   (u'panko breadcrumbs', 0.02673348870566802),\n",
       "   (u'green olives', 0.02607419728372698),\n",
       "   (u'apple cider vinegar', 0.0235358279997101)]),\n",
       " (16,\n",
       "  [(u'extra-virgin olive oil', 0.10083323829836825),\n",
       "   (u'garlic cloves', 0.05985269110364238),\n",
       "   (u'olive oil', 0.05027947166985635),\n",
       "   (u'flat leaf parsley', 0.046381772171346286),\n",
       "   (u'freshly ground pepper', 0.039457041002068975),\n",
       "   (u'fresh lemon juice', 0.03856081277240169),\n",
       "   (u'salt', 0.03808006015688929),\n",
       "   (u'dry white wine', 0.036468942702369875),\n",
       "   (u'large garlic cloves', 0.03216817172879061),\n",
       "   (u'ground black pepper', 0.029174154327681175)]),\n",
       " (17,\n",
       "  [(u'coconut milk', 0.14039473267660527),\n",
       "   (u'parsley', 0.053520649826206225),\n",
       "   (u'thyme', 0.0478764449185555),\n",
       "   (u'chicken thighs', 0.04485959967625669),\n",
       "   (u'garlic', 0.03483908552759847),\n",
       "   (u'coconut oil', 0.0333758796706367),\n",
       "   (u'onions', 0.03320243462415856),\n",
       "   (u'Thai red curry paste', 0.024500029872723206),\n",
       "   (u'bread', 0.024385440595203776),\n",
       "   (u'salt', 0.019675543148907862)]),\n",
       " (18,\n",
       "  [(u'salt', 0.10286475889374326),\n",
       "   (u'all-purpose flour', 0.09036246601475234),\n",
       "   (u'eggs', 0.08657291592985515),\n",
       "   (u'milk', 0.08518924452520629),\n",
       "   (u'butter', 0.07002848634601007),\n",
       "   (u'baking powder', 0.0545674438178263),\n",
       "   (u'sugar', 0.049774314966074214),\n",
       "   (u'flour', 0.039811370974946095),\n",
       "   (u'baking soda', 0.03429784428495101),\n",
       "   (u'buttermilk', 0.030033979348320784)]),\n",
       " (19,\n",
       "  [(u'curry powder', 0.13496195156332094),\n",
       "   (u'frozen peas', 0.07117129069873494),\n",
       "   (u'long-grain rice', 0.06477582695088907),\n",
       "   (u'sweetened condensed milk', 0.05279927051685965),\n",
       "   (u'greek yogurt', 0.04635656686463413),\n",
       "   (u'egg whites', 0.03810221271509384),\n",
       "   (u'cauliflower', 0.032214229450347256),\n",
       "   (u'cardamom pods', 0.029779082802830432),\n",
       "   (u'black-eyed peas', 0.02810136035782532),\n",
       "   (u'ground cayenne pepper', 0.026441439466019123)]),\n",
       " (20,\n",
       "  [(u'peanut oil', 0.04399137025077627),\n",
       "   (u'ground white pepper', 0.041780605125565314),\n",
       "   (u'beansprouts', 0.03526538424986438),\n",
       "   (u'Sriracha', 0.03464663385953199),\n",
       "   (u'rice noodles', 0.03188437756956915),\n",
       "   (u'medium shrimp', 0.03180376900253611),\n",
       "   (u'peanuts', 0.02975605306531194),\n",
       "   (u'minced ginger', 0.025379689895871704),\n",
       "   (u'fish sauce', 0.0253352081526244),\n",
       "   (u'english cucumber', 0.02386218691815063)]),\n",
       " (21,\n",
       "  [(u'boneless skinless chicken breast halves', 0.11640332568244371),\n",
       "   (u'coarse salt', 0.10706265479411331),\n",
       "   (u'ground pepper', 0.06716631859523704),\n",
       "   (u'sweet onion', 0.060331028757312416),\n",
       "   (u'mayonaise', 0.05504337370927104),\n",
       "   (u'pork tenderloin', 0.0421111484123666),\n",
       "   (u'minced garlic', 0.0396348757858785),\n",
       "   (u'juice', 0.03764686021246728),\n",
       "   (u'minced onion', 0.03549612309647959),\n",
       "   (u'dried parsley', 0.031200914254888946)]),\n",
       " (22,\n",
       "  [(u'diced onions', 0.07966610623362047),\n",
       "   (u'lettuce', 0.05387436131109504),\n",
       "   (u'self rising flour', 0.053581399591004594),\n",
       "   (u'provolone cheese', 0.04767666800158087),\n",
       "   (u'iceberg lettuce', 0.032195728798238225),\n",
       "   (u'frozen pastry puff sheets', 0.028023578678438053),\n",
       "   (u'romano cheese', 0.02636620709413944),\n",
       "   (u'semi-sweet chocolate morsels', 0.02473993287889683),\n",
       "   (u'shredded cheese', 0.024250997391988632),\n",
       "   (u'reduced-fat sour cream', 0.023994981899309372)]),\n",
       " (23,\n",
       "  [(u'lemon juice', 0.18590259676259416),\n",
       "   (u'dijon mustard', 0.09239686094266436),\n",
       "   (u'creole seasoning', 0.05084383169597591),\n",
       "   (u'white pepper', 0.040348907919114795),\n",
       "   (u'fresh orange juice', 0.038844295144291045),\n",
       "   (u'nutmeg', 0.038060844779090865),\n",
       "   (u'kale', 0.028640742093208438),\n",
       "   (u'mayonaise', 0.028356509516377686),\n",
       "   (u'salmon fillets', 0.02752542476035702),\n",
       "   (u'cream cheese, soften', 0.027435155618422604)]),\n",
       " (24,\n",
       "  [(u'sugar', 0.08245321852081404),\n",
       "   (u'whipping cream', 0.07232987017295726),\n",
       "   (u'orange juice', 0.05725046378034679),\n",
       "   (u'hot water', 0.05354618966283581),\n",
       "   (u'chopped garlic', 0.04972179931298535),\n",
       "   (u'orange', 0.04939072522092904),\n",
       "   (u'bananas', 0.03286020336946778),\n",
       "   (u'bread flour', 0.029905571050704398),\n",
       "   (u'water', 0.02894954512310189),\n",
       "   (u'brandy', 0.028938175672233453)]),\n",
       " (25,\n",
       "  [(u'salt', 0.06587175344331406),\n",
       "   (u'cumin seed', 0.06278425263867464),\n",
       "   (u'onions', 0.05411449024146565),\n",
       "   (u'ground turmeric', 0.04468433654420954),\n",
       "   (u'garam masala', 0.041087806617558224),\n",
       "   (u'green chilies', 0.040652071900723626),\n",
       "   (u'clove', 0.04014053763778079),\n",
       "   (u'chili powder', 0.03149444230346721),\n",
       "   (u'tomatoes', 0.03127568361275507),\n",
       "   (u'oil', 0.028312119851508524)]),\n",
       " (26,\n",
       "  [(u'fish sauce', 0.0842086419250386),\n",
       "   (u'white vinegar', 0.046084312302042324),\n",
       "   (u'sugar', 0.04184886450692128),\n",
       "   (u'garlic', 0.036764958396804444),\n",
       "   (u'lime juice', 0.03567156893230814),\n",
       "   (u'vegetable oil', 0.035486682652469265),\n",
       "   (u'shallots', 0.03379928029178895),\n",
       "   (u'water', 0.030368191568572945),\n",
       "   (u'lemongrass', 0.03026795664951133),\n",
       "   (u'red chili peppers', 0.027278543818785087)]),\n",
       " (27,\n",
       "  [(u'grated parmesan cheese', 0.10281313277605161),\n",
       "   (u'warm water', 0.05602314371968042),\n",
       "   (u'salt', 0.055852693884866224),\n",
       "   (u'shredded mozzarella cheese', 0.04571920365008282),\n",
       "   (u'olive oil', 0.04335330336908587),\n",
       "   (u'ricotta cheese', 0.03849792375026376),\n",
       "   (u'active dry yeast', 0.03708491371877619),\n",
       "   (u'mozzarella cheese', 0.035547862325468964),\n",
       "   (u'butter', 0.032079773850890066),\n",
       "   (u'italian seasoning', 0.03118127368906088)]),\n",
       " (28,\n",
       "  [(u'shrimp', 0.19921560106740363),\n",
       "   (u'pork', 0.056731929515849475),\n",
       "   (u'baby spinach', 0.05519986162673487),\n",
       "   (u'jasmine rice', 0.0340412251149008),\n",
       "   (u'unsweetened coconut milk', 0.03334223253859242),\n",
       "   (u'fresh tomatoes', 0.0326988589456116),\n",
       "   (u'noodles', 0.03223989281629672),\n",
       "   (u'black mustard seeds', 0.031090906246051944),\n",
       "   (u'sausage casings', 0.02847392018516045),\n",
       "   (u'sea scallops', 0.02470810635462555)]),\n",
       " (29,\n",
       "  [(u'mushrooms', 0.13370062600240298),\n",
       "   (u'white wine vinegar', 0.08242086123012597),\n",
       "   (u'shallots', 0.04772314381992694),\n",
       "   (u'boneless chicken breast', 0.04158789195496783),\n",
       "   (u'olive oil', 0.03385649728473287),\n",
       "   (u'chopped fresh sage', 0.03293420958094562),\n",
       "   (u'butter', 0.027348052639168337),\n",
       "   (u'chorizo sausage', 0.025859993446401663),\n",
       "   (u'blanched almonds', 0.025701974236252426),\n",
       "   (u'chicken drumsticks', 0.024006902993904778)]),\n",
       " (30,\n",
       "  [(u'large eggs', 0.08906223125891942),\n",
       "   (u'unsalted butter', 0.08774912281419527),\n",
       "   (u'sugar', 0.06670663612419726),\n",
       "   (u'salt', 0.05748755861657563),\n",
       "   (u'all-purpose flour', 0.054236899435070235),\n",
       "   (u'heavy cream', 0.05037091463228312),\n",
       "   (u'whole milk', 0.03822709070087383),\n",
       "   (u'vanilla extract', 0.03337973468466142),\n",
       "   (u'granulated sugar', 0.03289547370145932),\n",
       "   (u'large egg yolks', 0.029049410950041505)]),\n",
       " (31,\n",
       "  [(u'salt', 0.07133935080174081),\n",
       "   (u'ground red pepper', 0.06307147324833384),\n",
       "   (u'water', 0.05214471059112086),\n",
       "   (u'finely chopped onion', 0.052130563741673214),\n",
       "   (u'chopped celery', 0.04576856671916988),\n",
       "   (u'green beans', 0.03175934120633871),\n",
       "   (u'hot pepper sauce', 0.031215682847699176),\n",
       "   (u'long grain white rice', 0.031113719683935188),\n",
       "   (u'chopped onion', 0.030216000571252833),\n",
       "   (u'chopped green bell pepper', 0.028476312336976343)]),\n",
       " (32,\n",
       "  [(u'water', 0.06287781815156801),\n",
       "   (u'fine sea salt', 0.059885257642065294),\n",
       "   (u'lemon zest', 0.05029985679726627),\n",
       "   (u'fresh spinach', 0.04854464936303319),\n",
       "   (u'yukon gold potatoes', 0.0414185037724495),\n",
       "   (u'sesame seeds', 0.0359320935479775),\n",
       "   (u'collard greens', 0.033622654691453195),\n",
       "   (u'parmigiano reggiano cheese', 0.031740243889248634),\n",
       "   (u'rice flour', 0.03088222539595115),\n",
       "   (u'tofu', 0.029141558274488503)]),\n",
       " (33,\n",
       "  [(u'balsamic vinegar', 0.13345457601766372),\n",
       "   (u'dark soy sauce', 0.07032102005433888),\n",
       "   (u'chopped fresh mint', 0.06636700355109669),\n",
       "   (u'baguette', 0.06290110355131559),\n",
       "   (u'broccoli', 0.050702552990296),\n",
       "   (u'penne', 0.03133664658122647),\n",
       "   (u'mint', 0.03109358935916469),\n",
       "   (u'tequila', 0.028204513804840153),\n",
       "   (u'red kidney beans', 0.01929381323437588),\n",
       "   (u'arugula', 0.01838999125478141)]),\n",
       " (34,\n",
       "  [(u'onions', 0.08908570747146054),\n",
       "   (u'salt', 0.07391922595153379),\n",
       "   (u'garlic', 0.05924380121469659),\n",
       "   (u'olive oil', 0.0486181823364892),\n",
       "   (u'bay leaves', 0.04140385625300701),\n",
       "   (u'ground black pepper', 0.040927384955912624),\n",
       "   (u'chicken stock', 0.03772691695324366),\n",
       "   (u'pepper', 0.03727509235776017),\n",
       "   (u'carrots', 0.03657940622402711),\n",
       "   (u'chicken', 0.031641802885223586)]),\n",
       " (35,\n",
       "  [(u'soy sauce', 0.09733346021010449),\n",
       "   (u'sesame oil', 0.05179735628351069),\n",
       "   (u'sugar', 0.04218296544977321),\n",
       "   (u'corn starch', 0.04198427826855944),\n",
       "   (u'garlic', 0.039126762140689),\n",
       "   (u'green onions', 0.03517415349334873),\n",
       "   (u'scallions', 0.03452642238854303),\n",
       "   (u'rice vinegar', 0.03427949511004341),\n",
       "   (u'salt', 0.028955740531032895),\n",
       "   (u'water', 0.028487727902946725)]),\n",
       " (36,\n",
       "  [(u'cheese', 0.10850055118031686),\n",
       "   (u'garlic salt', 0.06445969066952177),\n",
       "   (u'rice wine', 0.060875479422394414),\n",
       "   (u'chives', 0.057857051533694207),\n",
       "   (u'chicken breast halves', 0.043411401321535384),\n",
       "   (u'shredded sharp cheddar cheese', 0.04093236600101258),\n",
       "   (u'roasted peanuts', 0.04024069697107908),\n",
       "   (u'Mexican cheese blend', 0.0385377404574622),\n",
       "   (u'non-fat sour cream', 0.037499554691035115),\n",
       "   (u'dashi', 0.03358427953883423)]),\n",
       " (37,\n",
       "  [(u'chicken broth', 0.17999160062170222),\n",
       "   (u'chicken breasts', 0.10057712507317257),\n",
       "   (u'onions', 0.06189053114992742),\n",
       "   (u'crushed red pepper flakes', 0.053363655286096545),\n",
       "   (u'garlic', 0.05317353371414165),\n",
       "   (u'pepper', 0.04064286517737692),\n",
       "   (u'chopped parsley', 0.03794624022309445),\n",
       "   (u'salt', 0.03478408272649271),\n",
       "   (u'olive oil', 0.03376663139944698),\n",
       "   (u'bay leaf', 0.02503203301233841)]),\n",
       " (38,\n",
       "  [(u'olive oil', 0.0635051237062212),\n",
       "   (u'red wine vinegar', 0.06034506893540102),\n",
       "   (u'salt', 0.0542070152871861),\n",
       "   (u'parmesan cheese', 0.045452526393074004),\n",
       "   (u'garlic', 0.040618271781896115),\n",
       "   (u'fresh basil leaves', 0.040307700322139116),\n",
       "   (u'extra-virgin olive oil', 0.03686511494162869),\n",
       "   (u'pepper', 0.030579913039912886),\n",
       "   (u'ground black pepper', 0.029771155477254375),\n",
       "   (u'tomatoes', 0.029571536712105093)]),\n",
       " (39,\n",
       "  [(u'canola oil', 0.10058287392851892),\n",
       "   (u'fresh lime juice', 0.06616517293397399),\n",
       "   (u'chopped cilantro fresh', 0.06274269600327359),\n",
       "   (u'kosher salt', 0.058468985000598446),\n",
       "   (u'garlic cloves', 0.05362627342252563),\n",
       "   (u'peeled fresh ginger', 0.034495694785873644),\n",
       "   (u'chiles', 0.030200642640448895),\n",
       "   (u'vegetable oil', 0.02945956893401225),\n",
       "   (u'serrano chile', 0.027665437336931983),\n",
       "   (u'boneless chicken skinless thigh', 0.025502752658135532)])]"
      ]
     },
     "execution_count": 36,
     "metadata": {},
     "output_type": "execute_result"
    }
   ],
   "source": [
    "tmp"
   ]
  },
  {
   "cell_type": "code",
   "execution_count": 37,
   "metadata": {},
   "outputs": [],
   "source": [
    "ans1_dict = dict()\n",
    "our_words_list = ['salt', 'sugar', 'water', \n",
    "                'mushrooms', 'chicken', 'eggs']\n",
    "for word_id in our_words_list:\n",
    "    ans1_dict[word_id] = 0"
   ]
  },
  {
   "cell_type": "code",
   "execution_count": 38,
   "metadata": {},
   "outputs": [],
   "source": [
    "for recipe_pair in tmp:\n",
    "    for word_pair in recipe_pair[1]:\n",
    "        #print(word_pair)\n",
    "        for word in our_words_list:\n",
    "            if word == word_pair[0]:\n",
    "                ans1_dict[word] += 1\n",
    "        #print('---------------------')"
   ]
  },
  {
   "cell_type": "code",
   "execution_count": 39,
   "metadata": {},
   "outputs": [
    {
     "data": {
      "text/plain": [
       "{'chicken': 1, 'eggs': 1, 'mushrooms': 1, 'salt': 20, 'sugar': 7, 'water': 8}"
      ]
     },
     "execution_count": 39,
     "metadata": {},
     "output_type": "execute_result"
    }
   ],
   "source": [
    "ans1_dict"
   ]
  },
  {
   "cell_type": "code",
   "execution_count": 40,
   "metadata": {},
   "outputs": [],
   "source": [
    "def save_answers1(c_salt, c_sugar, c_water, c_mushrooms, c_chicken, c_eggs):\n",
    "    with open(\"cooking_LDA_pa_task1.txt\", \"w\") as fout:\n",
    "        fout.write(\" \".join([str(el) for el in [c_salt, c_sugar, c_water, c_mushrooms, c_chicken, c_eggs]]))"
   ]
  },
  {
   "cell_type": "code",
   "execution_count": 41,
   "metadata": {},
   "outputs": [],
   "source": [
    "save_answers1(ans1_dict['salt'], ans1_dict['sugar'], ans1_dict['water'], ans1_dict['mushrooms'], ans1_dict['chicken'], ans1_dict['eggs'])"
   ]
  },
  {
   "cell_type": "markdown",
   "metadata": {},
   "source": [
    "### Фильтрация словаря\n",
    "В топах тем гораздо чаще встречаются первые три рассмотренных ингредиента, чем последние три. При этом наличие в рецепте курицы, яиц и грибов яснее дает понять, что мы будем готовить, чем наличие соли, сахара и воды. Таким образом, даже в рецептах есть слова, часто встречающиеся в текстах и не несущие смысловой нагрузки, и поэтому их не желательно видеть в темах. Наиболее простой прием борьбы с такими фоновыми элементами — фильтрация словаря по частоте. Обычно словарь фильтруют с двух сторон: убирают очень редкие слова (в целях экономии памяти) и очень частые слова (в целях повышения интерпретируемости тем). Мы уберем только частые слова."
   ]
  },
  {
   "cell_type": "code",
   "execution_count": 149,
   "metadata": {},
   "outputs": [],
   "source": [
    "import copy\n",
    "dictionary2 = copy.deepcopy(dictionary)"
   ]
  },
  {
   "cell_type": "code",
   "execution_count": 150,
   "metadata": {},
   "outputs": [],
   "source": [
    "corpus2 = [dictionary2.doc2bow(text) for text in texts]  # составляем корпус документов"
   ]
  },
  {
   "cell_type": "markdown",
   "metadata": {},
   "source": [
    "__Задание 2.__ У объекта dictionary2 есть переменная *dfs* — это словарь, ключами которого являются id токена, а элементами — число раз, сколько слово встретилось во всей коллекции. Сохраните в отдельный список ингредиенты, которые встретились в коллекции больше 4000 раз. Вызовите метод словаря *filter_tokens*, подав в качестве первого аргумента полученный список популярных ингредиентов. Вычислите две величины: dict_size_before и dict_size_after — размер словаря до и после фильтрации.\n",
    "\n",
    "Затем, используя новый словарь, создайте новый корпус документов, corpus2, по аналогии с тем, как это сделано в начале ноутбука. Вычислите две величины: corpus_size_before и corpus_size_after — суммарное количество ингредиентов в корпусе (для каждого документа вычислите число различных ингредиентов в нем и просуммируйте по всем документам) до и после фильтрации.\n",
    "\n",
    "Передайте величины dict_size_before, dict_size_after, corpus_size_before, corpus_size_after в функцию save_answers2 и загрузите сгенерированный файл в форму."
   ]
  },
  {
   "cell_type": "code",
   "execution_count": 151,
   "metadata": {},
   "outputs": [],
   "source": [
    "popular_words = [key for (key, count) in dictionary2.dfs.items() if count > 4000]"
   ]
  },
  {
   "cell_type": "code",
   "execution_count": 152,
   "metadata": {},
   "outputs": [
    {
     "data": {
      "text/plain": [
       "[0, 4, 9, 12, 17, 21, 29, 45, 48, 54, 100, 117]"
      ]
     },
     "execution_count": 152,
     "metadata": {},
     "output_type": "execute_result"
    }
   ],
   "source": [
    "popular_words"
   ]
  },
  {
   "cell_type": "code",
   "execution_count": 153,
   "metadata": {},
   "outputs": [],
   "source": [
    "dict_size_before = len(dictionary2.dfs)"
   ]
  },
  {
   "cell_type": "code",
   "execution_count": 154,
   "metadata": {},
   "outputs": [],
   "source": [
    "dictionary2.filter_tokens(bad_ids=popular_words)"
   ]
  },
  {
   "cell_type": "code",
   "execution_count": 155,
   "metadata": {},
   "outputs": [],
   "source": [
    "dict_size_after = len(dictionary2.dfs)"
   ]
  },
  {
   "cell_type": "code",
   "execution_count": 158,
   "metadata": {},
   "outputs": [],
   "source": [
    "corpus2 = [dictionary2.doc2bow(text) for text in texts]  # составляем корпус документов"
   ]
  },
  {
   "cell_type": "code",
   "execution_count": 165,
   "metadata": {},
   "outputs": [
    {
     "data": {
      "text/plain": [
       "[[(1880, 1), (2840, 1), (3228, 1), (3715, 1), (4902, 1), (5728, 1), (6109, 1)],\n",
       " [(116, 1),\n",
       "  (1635, 1),\n",
       "  (3639, 1),\n",
       "  (3700, 1),\n",
       "  (4334, 1),\n",
       "  (5949, 1),\n",
       "  (6097, 1),\n",
       "  (6583, 1)]]"
      ]
     },
     "execution_count": 165,
     "metadata": {},
     "output_type": "execute_result"
    }
   ],
   "source": [
    "corpus2[:2]"
   ]
  },
  {
   "cell_type": "code",
   "execution_count": 168,
   "metadata": {},
   "outputs": [],
   "source": [
    "def count_corpus_size(_corpus):\n",
    "    s = 0\n",
    "    for corp_list in _corpus:\n",
    "        tmp = set()\n",
    "        for pair in corp_list:\n",
    "            tmp.add(pair[0])\n",
    "        s += len(tmp)\n",
    "    return s"
   ]
  },
  {
   "cell_type": "code",
   "execution_count": 156,
   "metadata": {},
   "outputs": [],
   "source": [
    "def save_answers2(dict_size_before, dict_size_after, corpus_size_before, corpus_size_after):\n",
    "    with open(\"cooking_LDA_pa_task2.txt\", \"w\") as fout:\n",
    "        fout.write(\" \".join([str(el) for el in [dict_size_before, dict_size_after, corpus_size_before, corpus_size_after]]))"
   ]
  },
  {
   "cell_type": "code",
   "execution_count": 171,
   "metadata": {},
   "outputs": [],
   "source": [
    "save_answers2(dict_size_before, dict_size_after, count_corpus_size(corpus), count_corpus_size(corpus2))"
   ]
  },
  {
   "cell_type": "markdown",
   "metadata": {},
   "source": [
    "### Сравнение когерентностей\n",
    "__Задание 3.__ Постройте еще одну модель по корпусу corpus2 и словарю dictionary2, остальные параметры оставьте такими же, как при первом построении модели. Сохраните новую модель в другую переменную (не перезаписывайте предыдущую модель). Не забудьте про фиксирование seed!\n",
    "\n",
    "Затем воспользуйтесь методом *top_topics* модели, чтобы вычислить ее когерентность. Передайте в качестве аргумента соответствующий модели корпус. Метод вернет список кортежей (топ токенов, когерентность), отсортированных по убыванию последней. Вычислите среднюю по всем темам когерентность для каждой из двух моделей и передайте в функцию save_answers3. "
   ]
  },
  {
   "cell_type": "code",
   "execution_count": 172,
   "metadata": {},
   "outputs": [],
   "source": [
    "np.random.seed(76543) \n",
    "newmodel = models.LdaModel(corpus = corpus2, num_topics = 40, passes = 5, id2word = {k: w for (w, k) in dictionary2.token2id.items()}) "
   ]
  },
  {
   "cell_type": "code",
   "execution_count": 173,
   "metadata": {},
   "outputs": [],
   "source": [
    "cohs = ldamodel.top_topics(corpus = corpus) \n",
    "cohs2 = newmodel.top_topics(corpus = corpus2) "
   ]
  },
  {
   "cell_type": "code",
   "execution_count": 174,
   "metadata": {},
   "outputs": [],
   "source": [
    "coherence = sum([coh[1] for coh in cohs])/float(len(cohs)) \n",
    "coherence2 = sum([coh[1] for coh in cohs2])/float(len(cohs2)) "
   ]
  },
  {
   "cell_type": "code",
   "execution_count": 175,
   "metadata": {},
   "outputs": [],
   "source": [
    "def save_answers3(coherence, coherence2):\n",
    "    with open(\"cooking_LDA_pa_task3.txt\", \"w\") as fout:\n",
    "        fout.write(\" \".join([\"%3f\"%el for el in [coherence, coherence2]]))"
   ]
  },
  {
   "cell_type": "code",
   "execution_count": 176,
   "metadata": {},
   "outputs": [],
   "source": [
    "save_answers3(coherence, coherence2)"
   ]
  },
  {
   "cell_type": "markdown",
   "metadata": {},
   "source": [
    "Считается, что когерентность хорошо соотносится с человеческими оценками интерпретируемости тем. Поэтому на больших текстовых коллекциях когерентность обычно повышается, если убрать фоновую лексику. Однако в нашем случае этого не произошло. "
   ]
  },
  {
   "cell_type": "markdown",
   "metadata": {},
   "source": [
    "### Изучение влияния гиперпараметра alpha"
   ]
  },
  {
   "cell_type": "markdown",
   "metadata": {},
   "source": [
    "В этом разделе мы будем работать со второй моделью, то есть той, которая построена по сокращенному корпусу. \n",
    "\n",
    "Пока что мы посмотрели только на матрицу темы-слова, теперь давайте посмотрим на матрицу темы-документы. Выведите темы для нулевого (или любого другого) документа из корпуса, воспользовавшись методом *get_document_topics* второй модели:"
   ]
  },
  {
   "cell_type": "code",
   "execution_count": null,
   "metadata": {},
   "outputs": [],
   "source": []
  },
  {
   "cell_type": "markdown",
   "metadata": {},
   "source": [
    "Также выведите содержимое переменной *.alpha* второй модели:"
   ]
  },
  {
   "cell_type": "code",
   "execution_count": null,
   "metadata": {},
   "outputs": [],
   "source": []
  },
  {
   "cell_type": "markdown",
   "metadata": {},
   "source": [
    "У вас должно получиться, что документ характеризуется небольшим числом тем. Попробуем поменять гиперпараметр alpha, задающий априорное распределение Дирихле для распределений тем в документах."
   ]
  },
  {
   "cell_type": "markdown",
   "metadata": {},
   "source": [
    "__Задание 4.__ Обучите третью модель: используйте сокращенный корпус (corpus2 и dictionary2) и установите параметр __alpha=1__, passes=5. Не забудьте про фиксацию seed! Выведите темы новой модели для нулевого документа; должно получиться, что распределение над множеством тем практически равномерное. Чтобы убедиться в том, что во второй модели документы описываются гораздо более разреженными распределениями, чем в третьей, посчитайте суммарное количество элементов, __превосходящих 0.01__, в матрицах темы-документы обеих моделей. Другими словами, запросите темы  модели для каждого документа с параметром *minimum_probability=0.01* и просуммируйте число элементов в получаемых массивах. Передайте две суммы (сначала для модели с alpha по умолчанию, затем для модели в alpha=1) в функцию save_answers4."
   ]
  },
  {
   "cell_type": "code",
   "execution_count": null,
   "metadata": {},
   "outputs": [],
   "source": []
  },
  {
   "cell_type": "code",
   "execution_count": null,
   "metadata": {},
   "outputs": [],
   "source": []
  },
  {
   "cell_type": "code",
   "execution_count": null,
   "metadata": {},
   "outputs": [],
   "source": []
  },
  {
   "cell_type": "code",
   "execution_count": null,
   "metadata": {},
   "outputs": [],
   "source": [
    "def save_answers4(count_model2, count_model3):\n",
    "    with open(\"cooking_LDA_pa_task4.txt\", \"w\") as fout:\n",
    "        fout.write(\" \".join([str(el) for el in [count_model2, count_model3]]))"
   ]
  },
  {
   "cell_type": "markdown",
   "metadata": {},
   "source": [
    "Таким образом, гиперпараметр __alpha__ влияет на разреженность распределений тем в документах. Аналогично гиперпараметр __eta__ влияет на разреженность распределений слов в темах."
   ]
  },
  {
   "cell_type": "markdown",
   "metadata": {},
   "source": [
    "### LDA как способ понижения размерности\n",
    "Иногда, распределения над темами, найденные с помощью LDA, добавляют в матрицу объекты-признаки как дополнительные, семантические, признаки, и это может улучшить качество решения задачи. Для простоты давайте просто обучим классификатор рецептов на кухни на признаках, полученных из LDA, и измерим точность (accuracy).\n",
    "\n",
    "__Задание 5.__ Используйте модель, построенную по сокращенной выборке с alpha по умолчанию (вторую модель). Составьте матрицу $\\Theta = p(t|d)$ вероятностей тем в документах; вы можете использовать тот же метод get_document_topics, а также вектор правильных ответов y (в том же порядке, в котором рецепты идут в переменной recipes). Создайте объект RandomForestClassifier со 100 деревьями, с помощью функции cross_val_score вычислите среднюю accuracy по трем фолдам (перемешивать данные не нужно) и передайте в функцию save_answers5."
   ]
  },
  {
   "cell_type": "code",
   "execution_count": null,
   "metadata": {},
   "outputs": [],
   "source": [
    "from sklearn.ensemble import RandomForestClassifier\n",
    "from sklearn.cross_validation import cross_val_score"
   ]
  },
  {
   "cell_type": "code",
   "execution_count": null,
   "metadata": {},
   "outputs": [],
   "source": []
  },
  {
   "cell_type": "code",
   "execution_count": null,
   "metadata": {},
   "outputs": [],
   "source": []
  },
  {
   "cell_type": "code",
   "execution_count": null,
   "metadata": {},
   "outputs": [],
   "source": []
  },
  {
   "cell_type": "code",
   "execution_count": null,
   "metadata": {},
   "outputs": [],
   "source": [
    "def save_answers5(accuracy):\n",
    "     with open(\"cooking_LDA_pa_task5.txt\", \"w\") as fout:\n",
    "        fout.write(str(accuracy))"
   ]
  },
  {
   "cell_type": "markdown",
   "metadata": {},
   "source": [
    "Для такого большого количества классов это неплохая точность. Вы можете попроовать обучать RandomForest на исходной матрице частот слов, имеющей значительно большую размерность, и увидеть, что accuracy увеличивается на 10–15%. Таким образом, LDA собрал не всю, но достаточно большую часть информации из выборки, в матрице низкого ранга."
   ]
  },
  {
   "cell_type": "markdown",
   "metadata": {},
   "source": [
    "### LDA — вероятностная модель\n",
    "Матричное разложение, использующееся в LDA, интерпретируется как следующий процесс генерации документов.\n",
    "\n",
    "Для документа $d$ длины $n_d$:\n",
    "1. Из априорного распределения Дирихле с параметром alpha сгенерировать распределение над множеством тем: $\\theta_d \\sim Dirichlet(\\alpha)$\n",
    "1. Для каждого слова $w = 1, \\dots, n_d$:\n",
    "    1. Сгенерировать тему из дискретного распределения $t \\sim \\theta_{d}$\n",
    "    1. Сгенерировать слово из дискретного распределения $w \\sim \\phi_{t}$.\n",
    "    \n",
    "Подробнее об этом в [Википедии](https://en.wikipedia.org/wiki/Latent_Dirichlet_allocation).\n",
    "\n",
    "В контексте нашей задачи получается, что, используя данный генеративный процесс, можно создавать новые рецепты. Вы можете передать в функцию модель и число ингредиентов и сгенерировать рецепт :)"
   ]
  },
  {
   "cell_type": "code",
   "execution_count": null,
   "metadata": {},
   "outputs": [],
   "source": [
    "def generate_recipe(model, num_ingredients):\n",
    "    theta = np.random.dirichlet(model.alpha)\n",
    "    for i in range(num_ingredients):\n",
    "        t = np.random.choice(np.arange(model.num_topics), p=theta)\n",
    "        topic = model.show_topic(t, topn=model.num_terms)\n",
    "        topic_distr = [x[1] for x in topic]\n",
    "        terms = [x[0] for x in topic]\n",
    "        w = np.random.choice(terms, p=topic_distr)\n",
    "        print w"
   ]
  },
  {
   "cell_type": "code",
   "execution_count": null,
   "metadata": {},
   "outputs": [],
   "source": []
  },
  {
   "cell_type": "markdown",
   "metadata": {},
   "source": [
    "### Интерпретация построенной модели\n",
    "Вы можете рассмотреть топы ингредиентов каждой темы. Большиснтво тем сами по себе похожи на рецепты; в некоторых собираются продукты одного вида, например, свежие фрукты или разные виды сыра.\n",
    "\n",
    "Попробуем эмпирически соотнести наши темы с национальными кухнями (cuisine). Построим матрицу $A$ размера темы $x$ кухни, ее элементы $a_{tc}$ — суммы $p(t|d)$ по всем документам $d$, которые отнесены к кухне $c$. Нормируем матрицу на частоты рецептов по разным кухням, чтобы избежать дисбаланса между кухнями. Следующая функция получает на вход объект модели, объект корпуса и исходные данные и возвращает нормированную матрицу $A$. Ее удобно визуализировать с помощью seaborn."
   ]
  },
  {
   "cell_type": "code",
   "execution_count": null,
   "metadata": {},
   "outputs": [],
   "source": [
    "import pandas\n",
    "import seaborn\n",
    "from matplotlib import pyplot as plt\n",
    "%matplotlib inline"
   ]
  },
  {
   "cell_type": "code",
   "execution_count": null,
   "metadata": {},
   "outputs": [],
   "source": [
    "def compute_topic_cuisine_matrix(model, corpus, recipes):\n",
    "    # составляем вектор целевых признаков\n",
    "    targets = list(set([recipe[\"cuisine\"] for recipe in recipes]))\n",
    "    # составляем матрицу\n",
    "    tc_matrix = pandas.DataFrame(data=np.zeros((model.num_topics, len(targets))), columns=targets)\n",
    "    for recipe, bow in zip(recipes, corpus):\n",
    "        recipe_topic = model.get_document_topics(bow)\n",
    "        for t, prob in recipe_topic:\n",
    "            tc_matrix[recipe[\"cuisine\"]][t] += prob\n",
    "    # нормируем матрицу\n",
    "    target_sums = pandas.DataFrame(data=np.zeros((1, len(targets))), columns=targets)\n",
    "    for recipe in recipes:\n",
    "        target_sums[recipe[\"cuisine\"]] += 1\n",
    "    return pandas.DataFrame(tc_matrix.values/target_sums.values, columns=tc_matrix.columns)"
   ]
  },
  {
   "cell_type": "code",
   "execution_count": null,
   "metadata": {},
   "outputs": [],
   "source": [
    "def plot_matrix(tc_matrix):\n",
    "    plt.figure(figsize=(10, 10))\n",
    "    seaborn.heatmap(tc_matrix, square=True)"
   ]
  },
  {
   "cell_type": "code",
   "execution_count": null,
   "metadata": {},
   "outputs": [],
   "source": [
    "# Визуализируйте матрицу\n"
   ]
  },
  {
   "cell_type": "markdown",
   "metadata": {},
   "source": [
    "Чем темнее квадрат в матрице, тем больше связь этой темы с данной кухней. Мы видим, что у нас есть темы, которые связаны с несколькими кухнями. Такие темы показывают набор ингредиентов, которые популярны в кухнях нескольких народов, то есть указывают на схожесть кухонь этих народов. Некоторые темы распределены по всем кухням равномерно, они показывают наборы продуктов, которые часто используются в кулинарии всех стран. "
   ]
  },
  {
   "cell_type": "markdown",
   "metadata": {},
   "source": [
    "Жаль, что в датасете нет названий рецептов, иначе темы было бы проще интерпретировать..."
   ]
  },
  {
   "cell_type": "markdown",
   "metadata": {},
   "source": [
    "### Заключение\n",
    "В этом задании вы построили несколько моделей LDA, посмотрели, на что влияют гиперпараметры модели и как можно использовать построенную модель. "
   ]
  }
 ],
 "metadata": {
  "kernelspec": {
   "display_name": "Python 2",
   "language": "python",
   "name": "python2"
  },
  "language_info": {
   "codemirror_mode": {
    "name": "ipython",
    "version": 2
   },
   "file_extension": ".py",
   "mimetype": "text/x-python",
   "name": "python",
   "nbconvert_exporter": "python",
   "pygments_lexer": "ipython2",
   "version": "2.7.12"
  }
 },
 "nbformat": 4,
 "nbformat_minor": 1
}
