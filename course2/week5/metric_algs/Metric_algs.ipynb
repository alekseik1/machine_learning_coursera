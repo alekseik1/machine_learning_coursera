{
 "cells": [
  {
   "cell_type": "markdown",
   "metadata": {},
   "source": [
    "# 1NN против RandomForest"
   ]
  },
  {
   "cell_type": "code",
   "execution_count": 1,
   "metadata": {},
   "outputs": [],
   "source": [
    "from sklearn import datasets\n",
    "from sklearn.model_selection import cross_val_score, train_test_split\n",
    "from sklearn.ensemble import RandomForestClassifier\n",
    "from sklearn import metrics\n",
    "import numpy as np"
   ]
  },
  {
   "cell_type": "markdown",
   "metadata": {},
   "source": [
    "### Загрузим dataset"
   ]
  },
  {
   "cell_type": "code",
   "execution_count": 2,
   "metadata": {},
   "outputs": [],
   "source": [
    "dataset = datasets.load_digits()"
   ]
  },
  {
   "cell_type": "code",
   "execution_count": 3,
   "metadata": {},
   "outputs": [],
   "source": [
    "X_train, X_test, y_train, y_test = train_test_split(dataset.data, dataset.target, test_size=0.25, shuffle=False)"
   ]
  },
  {
   "cell_type": "markdown",
   "metadata": {},
   "source": [
    "## Сделаем через самопальный 1NN"
   ]
  },
  {
   "cell_type": "code",
   "execution_count": 4,
   "metadata": {},
   "outputs": [],
   "source": [
    "def e2metric(x, y):\n",
    "    return np.sqrt(np.dot((x-y), (x-y)))"
   ]
  },
  {
   "cell_type": "code",
   "execution_count": 5,
   "metadata": {},
   "outputs": [
    {
     "data": {
      "text/plain": [
       "59.556695677312391"
      ]
     },
     "execution_count": 5,
     "metadata": {},
     "output_type": "execute_result"
    }
   ],
   "source": [
    "e2metric(X_train[0], X_train[1])"
   ]
  },
  {
   "cell_type": "code",
   "execution_count": 6,
   "metadata": {},
   "outputs": [],
   "source": [
    "class My1NN:\n",
    "        \n",
    "    def _get_neighbour_distances(self, x, all_x=None):\n",
    "        if all_x is None:\n",
    "            all_x = self.all_x\n",
    "        f = lambda dot: e2metric(dot, x)\n",
    "        distances = np.apply_along_axis(f, 1, all_x)\n",
    "        return distances\n",
    "    \n",
    "    def _find_nearest_neighbour(self, x, all_x=None):\n",
    "        if all_x is None:\n",
    "            all_x = self.all_x\n",
    "        distances = self._get_neighbour_distances(x, all_x)\n",
    "        min_d_index = np.argmin(distances)\n",
    "        return min_d_index, distances[min_d_index]\n",
    "    \n",
    "    def fit(self, X, y):\n",
    "        self.all_x = X\n",
    "        self.all_y = y\n",
    "        \n",
    "    def predict(self, X):\n",
    "        f = lambda x: self._find_nearest_neighbour(x)[0]\n",
    "        indexes = np.apply_along_axis(f, 1, X)\n",
    "        return self.all_y[indexes]"
   ]
  },
  {
   "cell_type": "code",
   "execution_count": 7,
   "metadata": {},
   "outputs": [],
   "source": [
    "classifiler = My1NN()"
   ]
  },
  {
   "cell_type": "code",
   "execution_count": 8,
   "metadata": {},
   "outputs": [],
   "source": [
    "classifiler.fit(X_train, y_train)"
   ]
  },
  {
   "cell_type": "code",
   "execution_count": 9,
   "metadata": {},
   "outputs": [
    {
     "name": "stdout",
     "output_type": "stream",
     "text": [
      "CPU times: user 7.91 s, sys: 20 ms, total: 7.93 s\n",
      "Wall time: 7.91 s\n"
     ]
    }
   ],
   "source": [
    "%time predictions = classifiler.predict(X_test)"
   ]
  },
  {
   "cell_type": "code",
   "execution_count": 10,
   "metadata": {},
   "outputs": [
    {
     "name": "stdout",
     "output_type": "stream",
     "text": [
      "Error percent in 1NN is: 0.03777777777777778\n"
     ]
    }
   ],
   "source": [
    "print(\"Error percent in 1NN is: {}\".\n",
    "      format(np.argwhere(predictions != y_test).size / y_test.size))"
   ]
  },
  {
   "cell_type": "markdown",
   "metadata": {},
   "source": [
    "## Попробуем сделать через RandomForest"
   ]
  },
  {
   "cell_type": "code",
   "execution_count": 11,
   "metadata": {},
   "outputs": [],
   "source": [
    "rf_classifiler = RandomForestClassifier(n_estimators=1000, n_jobs=4)"
   ]
  },
  {
   "cell_type": "code",
   "execution_count": 12,
   "metadata": {},
   "outputs": [
    {
     "name": "stdout",
     "output_type": "stream",
     "text": [
      "CPU times: user 4.42 s, sys: 208 ms, total: 4.62 s\n",
      "Wall time: 2.45 s\n"
     ]
    },
    {
     "data": {
      "text/plain": [
       "RandomForestClassifier(bootstrap=True, class_weight=None, criterion='gini',\n",
       "            max_depth=None, max_features='auto', max_leaf_nodes=None,\n",
       "            min_impurity_decrease=0.0, min_impurity_split=None,\n",
       "            min_samples_leaf=1, min_samples_split=2,\n",
       "            min_weight_fraction_leaf=0.0, n_estimators=1000, n_jobs=4,\n",
       "            oob_score=False, random_state=None, verbose=0,\n",
       "            warm_start=False)"
      ]
     },
     "execution_count": 12,
     "metadata": {},
     "output_type": "execute_result"
    }
   ],
   "source": [
    "%time rf_classifiler.fit(X_train, y_train)"
   ]
  },
  {
   "cell_type": "code",
   "execution_count": 13,
   "metadata": {},
   "outputs": [],
   "source": [
    "rf_predictions = rf_classifiler.predict(X_test)"
   ]
  },
  {
   "cell_type": "code",
   "execution_count": 14,
   "metadata": {},
   "outputs": [
    {
     "name": "stdout",
     "output_type": "stream",
     "text": [
      "Error percent in RandomForest is: 0.06222222222222222\n"
     ]
    }
   ],
   "source": [
    "print(\"Error percent in RandomForest is: {}\".\n",
    "      format(np.argwhere(rf_predictions != y_test).size / y_test.size))"
   ]
  },
  {
   "cell_type": "markdown",
   "metadata": {},
   "source": [
    "Ого, да самописный 1NN работает лучше, чем RandomForest. Ребята с Coursera говорят, что такое _иногда_ случается."
   ]
  }
 ],
 "metadata": {
  "kernelspec": {
   "display_name": "Python 3",
   "language": "python",
   "name": "python3"
  },
  "language_info": {
   "codemirror_mode": {
    "name": "ipython",
    "version": 3
   },
   "file_extension": ".py",
   "mimetype": "text/x-python",
   "name": "python",
   "nbconvert_exporter": "python",
   "pygments_lexer": "ipython3",
   "version": "3.5.2"
  }
 },
 "nbformat": 4,
 "nbformat_minor": 2
}
